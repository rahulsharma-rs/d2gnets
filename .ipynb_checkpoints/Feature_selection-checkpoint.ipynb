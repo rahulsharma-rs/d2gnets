{
 "cells": [
  {
   "cell_type": "code",
   "execution_count": 1,
   "id": "990b09e4-7a9f-45c0-afee-f880d92ea54b",
   "metadata": {},
   "outputs": [],
   "source": [
    "# example of correlation feature selection for numerical data\n",
    "from sklearn.datasets import make_regression\n",
    "from sklearn.model_selection import train_test_split\n",
    "from sklearn.feature_selection import SelectKBest\n",
    "from sklearn.feature_selection import f_regression\n",
    "from matplotlib import pyplot\n",
    "import pandas as pd\n",
    " \n",
    "# feature selection\n",
    "def select_features(X_train, y_train, X_test):\n",
    "\t# configure to select all features\n",
    "\tfs = SelectKBest(score_func=f_regression, k='all')\n",
    "\t# learn relationship from training data\n",
    "\tfs.fit(X_train, y_train)\n",
    "\t# transform train input data\n",
    "\tX_train_fs = fs.transform(X_train)\n",
    "\t# transform test input data\n",
    "\tX_test_fs = fs.transform(X_test)\n",
    "\treturn X_train_fs, X_test_fs, fs\n",
    " \n"
   ]
  },
  {
   "cell_type": "code",
   "execution_count": 57,
   "id": "505342d6-6e7e-4af2-9a98-8f90afb8856f",
   "metadata": {},
   "outputs": [],
   "source": [
    "panCancer_train_df = pd.read_csv('/data/user/rsharma3/nbotw/Project-D2GNETs/data/panCancer_train_CGC_657_new_drug_features_v2_df.csv')\n",
    "GBM_train_df = pd.read_csv('/data/user/rsharma3/nbotw/Project-D2GNETs/data/GBM_train_CGC_657_new_drug_features_v2_df.csv')\n",
    "#GBM_test_df = pd.read_csv('/data/user/rsharma3/nbotw/Project-D2GNETs/data/GBM_test_CGC_657_new_drug_features_v2_df.csv')\n"
   ]
  },
  {
   "cell_type": "code",
   "execution_count": 58,
   "id": "37dd94ba-692f-4cb8-a277-c655d98b1779",
   "metadata": {},
   "outputs": [
    {
     "data": {
      "text/html": [
       "<div>\n",
       "<style scoped>\n",
       "    .dataframe tbody tr th:only-of-type {\n",
       "        vertical-align: middle;\n",
       "    }\n",
       "\n",
       "    .dataframe tbody tr th {\n",
       "        vertical-align: top;\n",
       "    }\n",
       "\n",
       "    .dataframe thead th {\n",
       "        text-align: right;\n",
       "    }\n",
       "</style>\n",
       "<table border=\"1\" class=\"dataframe\">\n",
       "  <thead>\n",
       "    <tr style=\"text-align: right;\">\n",
       "      <th></th>\n",
       "      <th>SAMPLE_ID</th>\n",
       "      <th>TCGA_DESC</th>\n",
       "      <th>DRUG_ID</th>\n",
       "      <th>DRUG_NAME</th>\n",
       "      <th>LN_IC50</th>\n",
       "      <th>ACC</th>\n",
       "      <th>ALL</th>\n",
       "      <th>BLCA</th>\n",
       "      <th>BRCA</th>\n",
       "      <th>CESC</th>\n",
       "      <th>...</th>\n",
       "      <th>MSN</th>\n",
       "      <th>EIF1AX</th>\n",
       "      <th>CYP2C8</th>\n",
       "      <th>HOOK3</th>\n",
       "      <th>BCL9L</th>\n",
       "      <th>ETV5</th>\n",
       "      <th>CARD11</th>\n",
       "      <th>DEK</th>\n",
       "      <th>HRAS</th>\n",
       "      <th>CBLC</th>\n",
       "    </tr>\n",
       "  </thead>\n",
       "  <tbody>\n",
       "  </tbody>\n",
       "</table>\n",
       "<p>0 rows × 3681 columns</p>\n",
       "</div>"
      ],
      "text/plain": [
       "Empty DataFrame\n",
       "Columns: [SAMPLE_ID, TCGA_DESC, DRUG_ID, DRUG_NAME, LN_IC50, ACC, ALL, BLCA, BRCA, CESC, CLL, COREAD, DLBC, ESCA, GBM, HNSC, KIRC, LAML, LCML, LGG, LIHC, LUAD, LUSC, MB, MESO, MM, NB, OV, PAAD, PRAD, SCLC, SKCM, STAD, THCA, UCEC, UNCLASSIFIED, PUBCHEM_ID, WordMap, mol1, mol2, mol3, mol4, mol5, mol6, mol7, mol8, mol1 mol1, mol1 mol2, mol1 mol3, mol1 mol4, mol1 mol5, mol1 mol7, mol1 mol8, mol2 mol5, mol2 mol8, mol3 mol1, mol3 mol3, mol3 mol5, mol3 mol8, mol4 mol1, mol4 mol4, mol4 mol5, mol4 mol8, mol5 mol1, mol5 mol2, mol5 mol3, mol5 mol4, mol5 mol5, mol5 mol7, mol5 mol8, mol6 mol3, mol7 mol4, mol7 mol8, mol8 mol1, mol8 mol2, mol8 mol3, mol8 mol4, mol8 mol5, mol8 mol6, mol8 mol7, mol8 mol8, mol1 mol1 mol1, mol1 mol1 mol5, mol1 mol1 mol8, mol1 mol2 mol5, mol1 mol4 mol5, mol1 mol4 mol8, mol1 mol5 mol1, mol1 mol5 mol5, mol1 mol5 mol8, mol1 mol7 mol8, mol1 mol8 mol1, mol1 mol8 mol2, mol1 mol8 mol3, mol1 mol8 mol4, mol1 mol8 mol5, mol1 mol8 mol7, mol1 mol8 mol8, mol2 mol5 mol5, mol3 mol1 mol1, ...]\n",
       "Index: []\n",
       "\n",
       "[0 rows x 3681 columns]"
      ]
     },
     "execution_count": 58,
     "metadata": {},
     "output_type": "execute_result"
    }
   ],
   "source": [
    "GBM_train_df[GBM_train_df.isna().any(axis=1)]"
   ]
  },
  {
   "cell_type": "code",
   "execution_count": 59,
   "id": "af6931b8-2a78-464c-97ad-bd664c4afbef",
   "metadata": {},
   "outputs": [
    {
     "data": {
      "text/plain": [
       "Index(['ZNF521', 'PMS1', 'ROBO2', 'CCNE1', 'IDH2', 'TLX3', 'EPS15', 'BARD1',\n",
       "       'WAS', 'RECQL4',\n",
       "       ...\n",
       "       'MSN', 'EIF1AX', 'CYP2C8', 'HOOK3', 'BCL9L', 'ETV5', 'CARD11', 'DEK',\n",
       "       'HRAS', 'CBLC'],\n",
       "      dtype='object', length=181)"
      ]
     },
     "execution_count": 59,
     "metadata": {},
     "output_type": "execute_result"
    }
   ],
   "source": [
    "panCancer_train_df.columns[3500:]"
   ]
  },
  {
   "cell_type": "code",
   "execution_count": 60,
   "id": "07651226-bf25-400a-b6d8-fdc07ca2511d",
   "metadata": {},
   "outputs": [],
   "source": [
    "Disease_Xcols = (pd.read_csv('/data/user/rsharma3/nbotw/Project-D2GNETs/data/diseaseNames.csv')).columns.tolist()\n",
    "GE_Xcols =  (pd.read_csv('/data/user/rsharma3/nbotw/Project-D2GNETs/data/657_Gene_name.csv')).columns.tolist()+Disease_Xcols\n",
    "Drug_Xcols =  (pd.read_csv('/data/user/rsharma3/nbotw/Project-D2GNETs/data/moleculeNames_v1.csv')).columns.tolist()\n",
    "\n",
    "\n",
    "panCancer_df = pd.concat([panCancer_train_df,GBM_train_df],axis=0)\n",
    "\n",
    "panCancer_df = panCancer_df[Drug_Xcols+GE_Xcols+['TCGA_DESC','LN_IC50']]\n",
    "\n",
    "panCancer_df.dropna(inplace=True)\n",
    "\n",
    "#panCancer_df = panCancer_df[panCancer_df['TCGA_DESC']!='UNCLASSIFIED']\n",
    "\n",
    "X = panCancer_df[Drug_Xcols+GE_Xcols]#.values\n",
    "#X_GE = panCancer_df[GE_Xcols]#.values"
   ]
  },
  {
   "cell_type": "code",
   "execution_count": 61,
   "id": "847d6dc0-e2c0-458a-9c3b-af850a3ad3cb",
   "metadata": {},
   "outputs": [],
   "source": [
    "y = panCancer_df['LN_IC50']"
   ]
  },
  {
   "cell_type": "code",
   "execution_count": 62,
   "id": "ec0bff63-8929-44d0-928c-de2cba04e1b0",
   "metadata": {},
   "outputs": [
    {
     "data": {
      "image/png": "[encoded data removed]",
      "text/plain": [
       "<Figure size 432x288 with 1 Axes>"
      ]
     },
     "metadata": {
      "needs_background": "light"
     },
     "output_type": "display_data"
    }
   ],
   "source": [
    "# load the dataset\n",
    "#X, y = make_regression(n_samples=1000, n_features=100, n_informative=10, noise=0.1, random_state=1)\n",
    "# split into train and test sets\n",
    "X_train, X_test, y_train, y_test = train_test_split(X, y, test_size=0.33, random_state=1)\n",
    "# feature selection\n",
    "X_train_fs, X_test_fs, fs = select_features(X_train, y_train, X_test)\n",
    "# what are scores for the features\n",
    "#for i in range(len(fs.scores_)):\n",
    "\t#print('Feature %d: %f' % (i, fs.scores_[i]))\n",
    "# plot the scores\n",
    "pyplot.bar([i for i in range(len(fs.scores_))], fs.scores_)\n",
    "pyplot.show()"
   ]
  },
  {
   "cell_type": "code",
   "execution_count": 63,
   "id": "2391edf8-8016-4bce-bf1d-ded8094cbf74",
   "metadata": {},
   "outputs": [
    {
     "data": {
      "text/plain": [
       "26221.56543834305"
      ]
     },
     "execution_count": 63,
     "metadata": {},
     "output_type": "execute_result"
    }
   ],
   "source": [
    "fs.scores_.max()"
   ]
  },
  {
   "cell_type": "code",
   "execution_count": 64,
   "id": "401d2aea-0d0b-4b53-8060-7f2721f4208d",
   "metadata": {},
   "outputs": [
    {
     "data": {
      "text/plain": [
       "3674"
      ]
     },
     "execution_count": 64,
     "metadata": {},
     "output_type": "execute_result"
    }
   ],
   "source": [
    "len(Drug_Xcols+GE_Xcols)"
   ]
  },
  {
   "cell_type": "code",
   "execution_count": 65,
   "id": "ef5ece69-b12c-4bfb-9aea-276cb8f79665",
   "metadata": {},
   "outputs": [],
   "source": [
    "features_scores_df = pd.DataFrame()"
   ]
  },
  {
   "cell_type": "code",
   "execution_count": 66,
   "id": "581531db-f270-4ceb-87a8-d8d2912dafe1",
   "metadata": {},
   "outputs": [],
   "source": [
    "features_scores_df['Name'] = Drug_Xcols+GE_Xcols"
   ]
  },
  {
   "cell_type": "code",
   "execution_count": 67,
   "id": "9a4f67a5-04e8-4d8b-9990-8475061c3714",
   "metadata": {},
   "outputs": [],
   "source": [
    "features_scores_df['Score'] = fs.scores_"
   ]
  },
  {
   "cell_type": "code",
   "execution_count": 68,
   "id": "96ea47c8-7b9a-4681-9f0c-fafcc54f9d3d",
   "metadata": {},
   "outputs": [
    {
     "data": {
      "text/html": [
       "<div>\n",
       "<style scoped>\n",
       "    .dataframe tbody tr th:only-of-type {\n",
       "        vertical-align: middle;\n",
       "    }\n",
       "\n",
       "    .dataframe tbody tr th {\n",
       "        vertical-align: top;\n",
       "    }\n",
       "\n",
       "    .dataframe thead th {\n",
       "        text-align: right;\n",
       "    }\n",
       "</style>\n",
       "<table border=\"1\" class=\"dataframe\">\n",
       "  <thead>\n",
       "    <tr style=\"text-align: right;\">\n",
       "      <th></th>\n",
       "      <th>Name</th>\n",
       "      <th>Score</th>\n",
       "    </tr>\n",
       "  </thead>\n",
       "  <tbody>\n",
       "    <tr>\n",
       "      <th>0</th>\n",
       "      <td>mol1</td>\n",
       "      <td>23.828828</td>\n",
       "    </tr>\n",
       "    <tr>\n",
       "      <th>1</th>\n",
       "      <td>mol2</td>\n",
       "      <td>750.897854</td>\n",
       "    </tr>\n",
       "    <tr>\n",
       "      <th>2</th>\n",
       "      <td>mol3</td>\n",
       "      <td>1713.566673</td>\n",
       "    </tr>\n",
       "    <tr>\n",
       "      <th>3</th>\n",
       "      <td>mol4</td>\n",
       "      <td>904.931827</td>\n",
       "    </tr>\n",
       "    <tr>\n",
       "      <th>4</th>\n",
       "      <td>mol5</td>\n",
       "      <td>24422.749129</td>\n",
       "    </tr>\n",
       "    <tr>\n",
       "      <th>...</th>\n",
       "      <td>...</td>\n",
       "      <td>...</td>\n",
       "    </tr>\n",
       "    <tr>\n",
       "      <th>3669</th>\n",
       "      <td>SKCM</td>\n",
       "      <td>5.536203</td>\n",
       "    </tr>\n",
       "    <tr>\n",
       "      <th>3670</th>\n",
       "      <td>STAD</td>\n",
       "      <td>0.029842</td>\n",
       "    </tr>\n",
       "    <tr>\n",
       "      <th>3671</th>\n",
       "      <td>THCA</td>\n",
       "      <td>34.218241</td>\n",
       "    </tr>\n",
       "    <tr>\n",
       "      <th>3672</th>\n",
       "      <td>UCEC</td>\n",
       "      <td>26.779809</td>\n",
       "    </tr>\n",
       "    <tr>\n",
       "      <th>3673</th>\n",
       "      <td>UNCLASSIFIED</td>\n",
       "      <td>278.479952</td>\n",
       "    </tr>\n",
       "  </tbody>\n",
       "</table>\n",
       "<p>3674 rows × 2 columns</p>\n",
       "</div>"
      ],
      "text/plain": [
       "              Name         Score\n",
       "0             mol1     23.828828\n",
       "1             mol2    750.897854\n",
       "2             mol3   1713.566673\n",
       "3             mol4    904.931827\n",
       "4             mol5  24422.749129\n",
       "...            ...           ...\n",
       "3669          SKCM      5.536203\n",
       "3670          STAD      0.029842\n",
       "3671          THCA     34.218241\n",
       "3672          UCEC     26.779809\n",
       "3673  UNCLASSIFIED    278.479952\n",
       "\n",
       "[3674 rows x 2 columns]"
      ]
     },
     "execution_count": 68,
     "metadata": {},
     "output_type": "execute_result"
    }
   ],
   "source": [
    "features_scores_df"
   ]
  },
  {
   "cell_type": "code",
   "execution_count": 69,
   "id": "86363d9b-2b8d-479e-a6ff-a87dccefbd53",
   "metadata": {},
   "outputs": [
    {
     "data": {
      "text/html": [
       "<div>\n",
       "<style scoped>\n",
       "    .dataframe tbody tr th:only-of-type {\n",
       "        vertical-align: middle;\n",
       "    }\n",
       "\n",
       "    .dataframe tbody tr th {\n",
       "        vertical-align: top;\n",
       "    }\n",
       "\n",
       "    .dataframe thead th {\n",
       "        text-align: right;\n",
       "    }\n",
       "</style>\n",
       "<table border=\"1\" class=\"dataframe\">\n",
       "  <thead>\n",
       "    <tr style=\"text-align: right;\">\n",
       "      <th></th>\n",
       "      <th>Name</th>\n",
       "      <th>Score</th>\n",
       "    </tr>\n",
       "  </thead>\n",
       "  <tbody>\n",
       "    <tr>\n",
       "      <th>0</th>\n",
       "      <td>mol1</td>\n",
       "      <td>23.828828</td>\n",
       "    </tr>\n",
       "    <tr>\n",
       "      <th>1</th>\n",
       "      <td>mol2</td>\n",
       "      <td>750.897854</td>\n",
       "    </tr>\n",
       "    <tr>\n",
       "      <th>2</th>\n",
       "      <td>mol3</td>\n",
       "      <td>1713.566673</td>\n",
       "    </tr>\n",
       "    <tr>\n",
       "      <th>3</th>\n",
       "      <td>mol4</td>\n",
       "      <td>904.931827</td>\n",
       "    </tr>\n",
       "    <tr>\n",
       "      <th>4</th>\n",
       "      <td>mol5</td>\n",
       "      <td>24422.749129</td>\n",
       "    </tr>\n",
       "    <tr>\n",
       "      <th>...</th>\n",
       "      <td>...</td>\n",
       "      <td>...</td>\n",
       "    </tr>\n",
       "    <tr>\n",
       "      <th>2980</th>\n",
       "      <td>mol8 mol8 mol8 mol8 mol8 mol8 mol8 mol1</td>\n",
       "      <td>8343.828867</td>\n",
       "    </tr>\n",
       "    <tr>\n",
       "      <th>2981</th>\n",
       "      <td>mol8 mol8 mol8 mol8 mol8 mol8 mol8 mol3</td>\n",
       "      <td>1614.638536</td>\n",
       "    </tr>\n",
       "    <tr>\n",
       "      <th>2982</th>\n",
       "      <td>mol8 mol8 mol8 mol8 mol8 mol8 mol8 mol4</td>\n",
       "      <td>144.562940</td>\n",
       "    </tr>\n",
       "    <tr>\n",
       "      <th>2983</th>\n",
       "      <td>mol8 mol8 mol8 mol8 mol8 mol8 mol8 mol5</td>\n",
       "      <td>1763.684364</td>\n",
       "    </tr>\n",
       "    <tr>\n",
       "      <th>2984</th>\n",
       "      <td>mol8 mol8 mol8 mol8 mol8 mol8 mol8 mol7</td>\n",
       "      <td>150.046875</td>\n",
       "    </tr>\n",
       "  </tbody>\n",
       "</table>\n",
       "<p>2985 rows × 2 columns</p>\n",
       "</div>"
      ],
      "text/plain": [
       "                                         Name         Score\n",
       "0                                        mol1     23.828828\n",
       "1                                        mol2    750.897854\n",
       "2                                        mol3   1713.566673\n",
       "3                                        mol4    904.931827\n",
       "4                                        mol5  24422.749129\n",
       "...                                       ...           ...\n",
       "2980  mol8 mol8 mol8 mol8 mol8 mol8 mol8 mol1   8343.828867\n",
       "2981  mol8 mol8 mol8 mol8 mol8 mol8 mol8 mol3   1614.638536\n",
       "2982  mol8 mol8 mol8 mol8 mol8 mol8 mol8 mol4    144.562940\n",
       "2983  mol8 mol8 mol8 mol8 mol8 mol8 mol8 mol5   1763.684364\n",
       "2984  mol8 mol8 mol8 mol8 mol8 mol8 mol8 mol7    150.046875\n",
       "\n",
       "[2985 rows x 2 columns]"
      ]
     },
     "execution_count": 69,
     "metadata": {},
     "output_type": "execute_result"
    }
   ],
   "source": [
    "features_scores_df[:2985]"
   ]
  },
  {
   "cell_type": "code",
   "execution_count": 70,
   "id": "b609117d-4e44-4a9e-9f1d-deb9a1233927",
   "metadata": {},
   "outputs": [
    {
     "data": {
      "text/html": [
       "<div>\n",
       "<style scoped>\n",
       "    .dataframe tbody tr th:only-of-type {\n",
       "        vertical-align: middle;\n",
       "    }\n",
       "\n",
       "    .dataframe tbody tr th {\n",
       "        vertical-align: top;\n",
       "    }\n",
       "\n",
       "    .dataframe thead th {\n",
       "        text-align: right;\n",
       "    }\n",
       "</style>\n",
       "<table border=\"1\" class=\"dataframe\">\n",
       "  <thead>\n",
       "    <tr style=\"text-align: right;\">\n",
       "      <th></th>\n",
       "      <th>Name</th>\n",
       "      <th>Score</th>\n",
       "    </tr>\n",
       "  </thead>\n",
       "  <tbody>\n",
       "    <tr>\n",
       "      <th>1</th>\n",
       "      <td>mol2</td>\n",
       "      <td>750.897854</td>\n",
       "    </tr>\n",
       "    <tr>\n",
       "      <th>2</th>\n",
       "      <td>mol3</td>\n",
       "      <td>1713.566673</td>\n",
       "    </tr>\n",
       "    <tr>\n",
       "      <th>3</th>\n",
       "      <td>mol4</td>\n",
       "      <td>904.931827</td>\n",
       "    </tr>\n",
       "    <tr>\n",
       "      <th>4</th>\n",
       "      <td>mol5</td>\n",
       "      <td>24422.749129</td>\n",
       "    </tr>\n",
       "    <tr>\n",
       "      <th>5</th>\n",
       "      <td>mol6</td>\n",
       "      <td>632.426537</td>\n",
       "    </tr>\n",
       "    <tr>\n",
       "      <th>...</th>\n",
       "      <td>...</td>\n",
       "      <td>...</td>\n",
       "    </tr>\n",
       "    <tr>\n",
       "      <th>3632</th>\n",
       "      <td>ERG</td>\n",
       "      <td>525.731806</td>\n",
       "    </tr>\n",
       "    <tr>\n",
       "      <th>3637</th>\n",
       "      <td>BCL9L</td>\n",
       "      <td>2195.645286</td>\n",
       "    </tr>\n",
       "    <tr>\n",
       "      <th>3644</th>\n",
       "      <td>ALL</td>\n",
       "      <td>575.884539</td>\n",
       "    </tr>\n",
       "    <tr>\n",
       "      <th>3650</th>\n",
       "      <td>DLBC</td>\n",
       "      <td>363.592441</td>\n",
       "    </tr>\n",
       "    <tr>\n",
       "      <th>3655</th>\n",
       "      <td>LAML</td>\n",
       "      <td>412.470896</td>\n",
       "    </tr>\n",
       "  </tbody>\n",
       "</table>\n",
       "<p>1279 rows × 2 columns</p>\n",
       "</div>"
      ],
      "text/plain": [
       "       Name         Score\n",
       "1      mol2    750.897854\n",
       "2      mol3   1713.566673\n",
       "3      mol4    904.931827\n",
       "4      mol5  24422.749129\n",
       "5      mol6    632.426537\n",
       "...     ...           ...\n",
       "3632    ERG    525.731806\n",
       "3637  BCL9L   2195.645286\n",
       "3644    ALL    575.884539\n",
       "3650   DLBC    363.592441\n",
       "3655   LAML    412.470896\n",
       "\n",
       "[1279 rows x 2 columns]"
      ]
     },
     "execution_count": 70,
     "metadata": {},
     "output_type": "execute_result"
    }
   ],
   "source": [
    "(features_scores_df)[features_scores_df['Score']>350]"
   ]
  },
  {
   "cell_type": "code",
   "execution_count": 71,
   "id": "77c8a5fd-8a05-49d8-89d3-754225bb3b98",
   "metadata": {},
   "outputs": [],
   "source": [
    "# function to convert sequence strings into k-mer words, default size = 6 (hexamer words)\n",
    "def scoreClass(score):\n",
    "    if score!=None:\n",
    "        if (score>=0.0 and score<10.0):\n",
    "            return 'class1'\n",
    "        elif score>=10.0 and score<20.0:\n",
    "            return 'class2'\n",
    "        elif score>=20.0 and score<30.0:\n",
    "            return 'class3'\n",
    "        elif score>=30.0 and score<40.0:\n",
    "            return 'class4'\n",
    "        elif score>=40.0 and score<50.0:\n",
    "            return 'class5'\n",
    "        elif score>=50.0 and score<60.0:\n",
    "            return 'class6'\n",
    "        elif score>=60.0 and score<80.0:\n",
    "            return 'class7'\n",
    "        elif score>=80.0 and score<100.0:\n",
    "            return 'class8'\n",
    "        elif score>=100.0 and score<150.0:\n",
    "            return 'class9'\n",
    "        elif score>=150.0 and score<300.0:\n",
    "            return 'class10'\n",
    "        elif score>=300.0 and score<500.0:\n",
    "            return 'class11'\n",
    "        elif score>=500.0 and score<1500.0:\n",
    "            return 'class12'\n",
    "        else:\n",
    "            return 'class13'\n",
    "    else:\n",
    "        return None"
   ]
  },
  {
   "cell_type": "code",
   "execution_count": 72,
   "id": "aea8efac-317f-40a0-89c6-4c321310babf",
   "metadata": {},
   "outputs": [],
   "source": [
    "features_scores_df['ScoreClass'] = features_scores_df.apply(lambda x: scoreClass(x['Score']), axis=1)"
   ]
  },
  {
   "cell_type": "code",
   "execution_count": 73,
   "id": "730ac591-6ac1-43a6-abf5-6b5c890b5581",
   "metadata": {},
   "outputs": [
    {
     "data": {
      "text/html": [
       "<div>\n",
       "<style scoped>\n",
       "    .dataframe tbody tr th:only-of-type {\n",
       "        vertical-align: middle;\n",
       "    }\n",
       "\n",
       "    .dataframe tbody tr th {\n",
       "        vertical-align: top;\n",
       "    }\n",
       "\n",
       "    .dataframe thead th {\n",
       "        text-align: right;\n",
       "    }\n",
       "</style>\n",
       "<table border=\"1\" class=\"dataframe\">\n",
       "  <thead>\n",
       "    <tr style=\"text-align: right;\">\n",
       "      <th></th>\n",
       "      <th>Name</th>\n",
       "      <th>Score</th>\n",
       "      <th>ScoreClass</th>\n",
       "    </tr>\n",
       "  </thead>\n",
       "  <tbody>\n",
       "    <tr>\n",
       "      <th>0</th>\n",
       "      <td>mol1</td>\n",
       "      <td>23.828828</td>\n",
       "      <td>class3</td>\n",
       "    </tr>\n",
       "    <tr>\n",
       "      <th>1</th>\n",
       "      <td>mol2</td>\n",
       "      <td>750.897854</td>\n",
       "      <td>class12</td>\n",
       "    </tr>\n",
       "    <tr>\n",
       "      <th>2</th>\n",
       "      <td>mol3</td>\n",
       "      <td>1713.566673</td>\n",
       "      <td>class13</td>\n",
       "    </tr>\n",
       "    <tr>\n",
       "      <th>3</th>\n",
       "      <td>mol4</td>\n",
       "      <td>904.931827</td>\n",
       "      <td>class12</td>\n",
       "    </tr>\n",
       "    <tr>\n",
       "      <th>4</th>\n",
       "      <td>mol5</td>\n",
       "      <td>24422.749129</td>\n",
       "      <td>class13</td>\n",
       "    </tr>\n",
       "    <tr>\n",
       "      <th>...</th>\n",
       "      <td>...</td>\n",
       "      <td>...</td>\n",
       "      <td>...</td>\n",
       "    </tr>\n",
       "    <tr>\n",
       "      <th>3669</th>\n",
       "      <td>SKCM</td>\n",
       "      <td>5.536203</td>\n",
       "      <td>class1</td>\n",
       "    </tr>\n",
       "    <tr>\n",
       "      <th>3670</th>\n",
       "      <td>STAD</td>\n",
       "      <td>0.029842</td>\n",
       "      <td>class1</td>\n",
       "    </tr>\n",
       "    <tr>\n",
       "      <th>3671</th>\n",
       "      <td>THCA</td>\n",
       "      <td>34.218241</td>\n",
       "      <td>class4</td>\n",
       "    </tr>\n",
       "    <tr>\n",
       "      <th>3672</th>\n",
       "      <td>UCEC</td>\n",
       "      <td>26.779809</td>\n",
       "      <td>class3</td>\n",
       "    </tr>\n",
       "    <tr>\n",
       "      <th>3673</th>\n",
       "      <td>UNCLASSIFIED</td>\n",
       "      <td>278.479952</td>\n",
       "      <td>class10</td>\n",
       "    </tr>\n",
       "  </tbody>\n",
       "</table>\n",
       "<p>3674 rows × 3 columns</p>\n",
       "</div>"
      ],
      "text/plain": [
       "              Name         Score ScoreClass\n",
       "0             mol1     23.828828     class3\n",
       "1             mol2    750.897854    class12\n",
       "2             mol3   1713.566673    class13\n",
       "3             mol4    904.931827    class12\n",
       "4             mol5  24422.749129    class13\n",
       "...            ...           ...        ...\n",
       "3669          SKCM      5.536203     class1\n",
       "3670          STAD      0.029842     class1\n",
       "3671          THCA     34.218241     class4\n",
       "3672          UCEC     26.779809     class3\n",
       "3673  UNCLASSIFIED    278.479952    class10\n",
       "\n",
       "[3674 rows x 3 columns]"
      ]
     },
     "execution_count": 73,
     "metadata": {},
     "output_type": "execute_result"
    }
   ],
   "source": [
    "features_scores_df"
   ]
  },
  {
   "cell_type": "code",
   "execution_count": 74,
   "id": "5c83a2eb-03be-4ba6-9da9-541c676e68a6",
   "metadata": {},
   "outputs": [
    {
     "data": {
      "text/plain": [
       "Name           object\n",
       "Score         float64\n",
       "ScoreClass     object\n",
       "dtype: object"
      ]
     },
     "execution_count": 74,
     "metadata": {},
     "output_type": "execute_result"
    }
   ],
   "source": [
    "features_scores_df.dtypes"
   ]
  },
  {
   "cell_type": "code",
   "execution_count": 75,
   "id": "917ad782-0be2-47b8-bf9a-dc38127d79f9",
   "metadata": {},
   "outputs": [
    {
     "data": {
      "text/plain": [
       "class10    428\n",
       "class12    410\n",
       "class11    409\n",
       "class1     396\n",
       "class13    364\n",
       "class2     208\n",
       "class9     162\n",
       "class8     130\n",
       "class7     124\n",
       "class4     116\n",
       "class3     110\n",
       "class6      64\n",
       "class5      64\n",
       "Name: ScoreClass, dtype: int64"
      ]
     },
     "execution_count": 75,
     "metadata": {},
     "output_type": "execute_result"
    }
   ],
   "source": [
    "(features_scores_df[:2985])['ScoreClass'].value_counts()"
   ]
  },
  {
   "cell_type": "code",
   "execution_count": 76,
   "id": "51db37e6-407d-4f11-a263-058958b4286b",
   "metadata": {},
   "outputs": [
    {
     "data": {
      "text/plain": [
       "class12    190\n",
       "class10    110\n",
       "class11    101\n",
       "class1      71\n",
       "class9      44\n",
       "class7      34\n",
       "class3      27\n",
       "class2      26\n",
       "class8      24\n",
       "class13     22\n",
       "class4      15\n",
       "class6      14\n",
       "class5      11\n",
       "Name: ScoreClass, dtype: int64"
      ]
     },
     "execution_count": 76,
     "metadata": {},
     "output_type": "execute_result"
    }
   ],
   "source": [
    "(features_scores_df[2985:])['ScoreClass'].value_counts()"
   ]
  },
  {
   "cell_type": "code",
   "execution_count": 77,
   "id": "04642c68-23de-4377-b112-3572a260b8d6",
   "metadata": {},
   "outputs": [],
   "source": [
    "\n",
    "features_scores_df.to_csv('/data/user/rsharma3/nbotw/Project-D2GNETs/Supplementary_Material/featureScore.csv',index=False)"
   ]
  },
  {
   "cell_type": "code",
   "execution_count": null,
   "id": "23a05e0d-ff3e-4d35-bd46-75895e6e0589",
   "metadata": {},
   "outputs": [],
   "source": []
  }
 ],
 "metadata": {
  "kernelspec": {
   "display_name": "Python [conda env:.conda-TF]",
   "language": "python",
   "name": "conda-env-.conda-TF-py"
  },
  "language_info": {
   "codemirror_mode": {
    "name": "ipython",
    "version": 3
   },
   "file_extension": ".py",
   "mimetype": "text/x-python",
   "name": "python",
   "nbconvert_exporter": "python",
   "pygments_lexer": "ipython3",
   "version": "3.9.13"
  }
 },
 "nbformat": 4,
 "nbformat_minor": 5
}
