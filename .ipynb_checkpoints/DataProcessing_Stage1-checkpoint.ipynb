{
 "cells": [
  {
   "cell_type": "code",
   "execution_count": 2,
   "metadata": {
    "id": "ztGTnLcUmkV5"
   },
   "outputs": [
    {
     "name": "stdout",
     "output_type": "stream",
     "text": [
      "Requirement already satisfied: pubchempy in /data/user/home/rsharma3/.local/lib/python3.9/site-packages (1.0.4)\n"
     ]
    }
   ],
   "source": [
    "#!pip install pubchempy"
   ]
  },
  {
   "cell_type": "code",
   "execution_count": 1,
   "metadata": {},
   "outputs": [
    {
     "name": "stdout",
     "output_type": "stream",
     "text": [
      "/data/user/rsharma3/nbotw/Project-D2GNETs/Code\n"
     ]
    }
   ],
   "source": [
    "!pwd"
   ]
  },
  {
   "cell_type": "code",
   "execution_count": 23,
   "metadata": {},
   "outputs": [],
   "source": [
    "import sys\n",
    "from sklearn.preprocessing import StandardScaler, MaxAbsScaler, MinMaxScaler, QuantileTransformer, PowerTransformer,Normalizer\n",
    "from sklearn.feature_extraction.text import TfidfTransformer\n",
    "from sklearn.feature_extraction.text import CountVectorizer"
   ]
  },
  {
   "cell_type": "code",
   "execution_count": 2,
   "metadata": {},
   "outputs": [],
   "source": [
    "from rdkit import Chem"
   ]
  },
  {
   "cell_type": "code",
   "execution_count": 3,
   "metadata": {
    "id": "Fpc_NOWkFX-K"
   },
   "outputs": [],
   "source": [
    "import pandas as pd\n",
    "import numpy as np\n",
    "import pubchempy as pcp"
   ]
  },
  {
   "cell_type": "markdown",
   "metadata": {
    "id": "YmzBmI-oFyOq"
   },
   "source": [
    "# Loading data"
   ]
  },
  {
   "cell_type": "markdown",
   "metadata": {},
   "source": [
    "### Cell Line Gene Expression data from COSMIC"
   ]
  },
  {
   "cell_type": "code",
   "execution_count": 4,
   "metadata": {},
   "outputs": [],
   "source": [
    "data = pd.read_csv('/data/user/rsharma3/nbotw/Project-D2GNETs/data/AllGeneExpression.csv')"
   ]
  },
  {
   "cell_type": "markdown",
   "metadata": {},
   "source": [
    "### Drug REsponse and Drug Information data from GDSC"
   ]
  },
  {
   "cell_type": "code",
   "execution_count": 5,
   "metadata": {
    "id": "YdxBUkEaGXrL"
   },
   "outputs": [],
   "source": [
    "df_GDSC = pd.read_csv('/data/user/rsharma3/nbotw/Project-D2GNETs/data/GDSC2_fitted_dose_response_25Feb20_3.csv')\n",
    "df_GDSC_DrugInfo = pd.read_csv('/data/user/rsharma3/nbotw/Project-D2GNETs/data/Drug_Desciption_GDSC.csv')"
   ]
  },
  {
   "cell_type": "code",
   "execution_count": null,
   "metadata": {},
   "outputs": [],
   "source": []
  },
  {
   "cell_type": "markdown",
   "metadata": {},
   "source": [
    "# Drug Data Preparation"
   ]
  },
  {
   "cell_type": "code",
   "execution_count": null,
   "metadata": {
    "id": "fFX3OOaSm1nX"
   },
   "outputs": [],
   "source": [
    "lst = []\n",
    "\n",
    "ctr =0\n",
    "for x in df_GDSC_DrugInfo['drug_name'].unique().tolist():\n",
    "  c = pcp.get_compounds(x, 'name')\n",
    "  \n",
    "  if len(c) != 0:\n",
    "    tlst = []\n",
    "    tlst.append(x)\n",
    "    tlst.append(int(c[0].cid))\n",
    "    tlst.append(c[0].isomeric_smiles)\n",
    "    lst.append(tlst)\n",
    "  else:\n",
    "    ctr += 1\n",
    "    tlst = []\n",
    "    tlst.append(x)\n",
    "    tlst.append(None)\n",
    "    tlst.append(None)\n",
    "    lst.append(tlst)\n",
    "\n",
    "df = pd.DataFrame(lst, columns=['DRUG_NAME','PUBCHEM_ID','SMILES'])"
   ]
  },
  {
   "cell_type": "code",
   "execution_count": null,
   "metadata": {
    "id": "MLIUIHHsp5H7"
   },
   "outputs": [],
   "source": [
    "df.dropna(inplace=True)\n",
    "df.isna().sum()"
   ]
  },
  {
   "cell_type": "code",
   "execution_count": 289,
   "metadata": {},
   "outputs": [],
   "source": [
    "df= pd.read_csv('/data/user/rsharma3/nbotw/Project-D2GNETs/data/SMILES_FeatureEngineered.csv')\n",
    "df = df[['DRUG_NAME', 'PUBCHEM_ID', 'SMILES']].copy(deep=True)"
   ]
  },
  {
   "cell_type": "code",
   "execution_count": null,
   "metadata": {},
   "outputs": [],
   "source": []
  },
  {
   "cell_type": "code",
   "execution_count": 200,
   "metadata": {},
   "outputs": [],
   "source": [
    "### Using NLP to extract features from Drug SMILES"
   ]
  },
  {
   "cell_type": "code",
   "execution_count": 8,
   "metadata": {
    "id": "1xcz8O-1qcWV"
   },
   "outputs": [],
   "source": [
    "# function to convert sequence strings into k-mer words, default size = 6 (hexamer words)\n",
    "def getKmers(sequence, size=6):\n",
    "  if sequence!=None:\n",
    "    \n",
    "    return [sequence[x:x+size].lower() for x in range(len(sequence) - size + 1)]\n",
    "  else:\n",
    "    return None"
   ]
  },
  {
   "cell_type": "code",
   "execution_count": 8,
   "metadata": {},
   "outputs": [],
   "source": [
    "from io import StringIO\n",
    "sio = sys.stderr = StringIO()"
   ]
  },
  {
   "cell_type": "code",
   "execution_count": 20,
   "metadata": {},
   "outputs": [
    {
     "data": {
      "text/plain": [
       "['C',\n",
       " 'C',\n",
       " 'N',\n",
       " 'C',\n",
       " 'O',\n",
       " 'C',\n",
       " 'N',\n",
       " 'O',\n",
       " 'C',\n",
       " 'C',\n",
       " 'C',\n",
       " 'C',\n",
       " 'C',\n",
       " 'C',\n",
       " 'C',\n",
       " 'C',\n",
       " 'C',\n",
       " 'N',\n",
       " 'C',\n",
       " 'C',\n",
       " 'O',\n",
       " 'C',\n",
       " 'C',\n",
       " 'C',\n",
       " 'C',\n",
       " 'C',\n",
       " 'C',\n",
       " 'C',\n",
       " 'C',\n",
       " 'O',\n",
       " 'O',\n",
       " 'C',\n",
       " 'C',\n",
       " 'C']"
      ]
     },
     "execution_count": 20,
     "metadata": {},
     "output_type": "execute_result"
    }
   ],
   "source": [
    "lst"
   ]
  },
  {
   "cell_type": "code",
   "execution_count": 290,
   "metadata": {},
   "outputs": [],
   "source": [
    "# function to convert sequence strings into k-mer words, default size = 6 (hexamer words)\n",
    "def getKmers(sequence, size=6):\n",
    "  if sequence!=None:\n",
    "    lst =[]\n",
    "    X =None\n",
    "    for i in [1]:\n",
    "    #for i in range(1,int(len(sequence)*0.50)):\n",
    "        for x in range(len(sequence) - i + 1):\n",
    "            try:\n",
    "                \n",
    "                X=Chem.MolFromSmiles(sequence[x:x+i])\n",
    "                sio = sys.stderr = StringIO()\n",
    "            except SyntaxError:\n",
    "                pass\n",
    "            if X is None:\n",
    "                continue\n",
    "            else:\n",
    "                lst.append(sequence[x:x+i])\n",
    "    return lst\n",
    "  else:\n",
    "    return None"
   ]
  },
  {
   "cell_type": "code",
   "execution_count": 291,
   "metadata": {},
   "outputs": [],
   "source": [
    "lst = getKmers('CCNC(=O)C1=NOC(=C1C2=CC=C(C=C2)CN3CCOCC3)C4=CC(=C(C=C4O)O)C(C)C')"
   ]
  },
  {
   "cell_type": "code",
   "execution_count": 292,
   "metadata": {},
   "outputs": [],
   "source": [
    "df['WORDS'] = df.apply(lambda x: getKmers(x['SMILES']), axis=1)"
   ]
  },
  {
   "cell_type": "code",
   "execution_count": 293,
   "metadata": {},
   "outputs": [],
   "source": [
    "mols = []\n",
    "for x in list(df['WORDS']):\n",
    "    mols = mols + x\n",
    "    "
   ]
  },
  {
   "cell_type": "code",
   "execution_count": 294,
   "metadata": {},
   "outputs": [],
   "source": [
    "setx = list(set(mols))"
   ]
  },
  {
   "cell_type": "code",
   "execution_count": 295,
   "metadata": {},
   "outputs": [
    {
     "data": {
      "text/plain": [
       "8"
      ]
     },
     "execution_count": 295,
     "metadata": {},
     "output_type": "execute_result"
    }
   ],
   "source": [
    "len(setx)"
   ]
  },
  {
   "cell_type": "code",
   "execution_count": 296,
   "metadata": {},
   "outputs": [],
   "source": [
    "molName = [f'Mol{i}' for i in range(1,len(setx)+1)]"
   ]
  },
  {
   "cell_type": "code",
   "execution_count": 297,
   "metadata": {},
   "outputs": [],
   "source": [
    "molDict = {}\n",
    "ctr=1\n",
    "for i in setx:\n",
    "    molDict.update({i:f'Mol{ctr}'})\n",
    "    ctr+=1\n",
    "    "
   ]
  },
  {
   "cell_type": "code",
   "execution_count": 298,
   "metadata": {},
   "outputs": [],
   "source": [
    "mol = pd.DataFrame(np.asarray([setx,molName]).T,columns=['Molecule','tokenName'])"
   ]
  },
  {
   "cell_type": "code",
   "execution_count": 299,
   "metadata": {},
   "outputs": [],
   "source": [
    "mol.to_csv('/data/user/rsharma3/nbotw/Project-D2GNETs/data/Molecule_token_map.csv',index=False)"
   ]
  },
  {
   "cell_type": "code",
   "execution_count": 300,
   "metadata": {},
   "outputs": [],
   "source": [
    "def mapWords(lst=None):\n",
    "    if lst!=None:\n",
    "        tlst = []\n",
    "        for x in lst:\n",
    "            tlst.append(molDict[x])\n",
    "        return tlst\n",
    "    else:\n",
    "        return None"
   ]
  },
  {
   "cell_type": "code",
   "execution_count": null,
   "metadata": {
    "id": "2E9mYM6UqnpA"
   },
   "outputs": [],
   "source": []
  },
  {
   "cell_type": "code",
   "execution_count": 301,
   "metadata": {
    "id": "yPp4KCAKqt_L"
   },
   "outputs": [],
   "source": [
    "\n",
    "df['WordMap']=df.apply(lambda x: mapWords(x['WORDS']), axis=1)"
   ]
  },
  {
   "cell_type": "code",
   "execution_count": 302,
   "metadata": {},
   "outputs": [],
   "source": [
    "df_texts = list(df['WordMap'])\n",
    "for item in range(len(df_texts)):\n",
    "    df_texts[item] = ' '.join(df_texts[item])\n"
   ]
  },
  {
   "cell_type": "code",
   "execution_count": null,
   "metadata": {},
   "outputs": [],
   "source": []
  },
  {
   "cell_type": "code",
   "execution_count": null,
   "metadata": {},
   "outputs": [],
   "source": []
  },
  {
   "cell_type": "code",
   "execution_count": 361,
   "metadata": {
    "id": "BGLHJs2trhGC"
   },
   "outputs": [],
   "source": [
    "# Creating the Bag of Words model using CountVectorizer()\n",
    "# This is equivalent to k-mer counting\n",
    "# The n-gram size of 4 was previously determined by testing\n",
    "cv = CountVectorizer(ngram_range=(8,8))\n",
    "X = cv.fit_transform(df_texts)"
   ]
  },
  {
   "cell_type": "code",
   "execution_count": 362,
   "metadata": {},
   "outputs": [],
   "source": [
    "#from sklearn.feature_extraction.text import CountVectorizer\n",
    "#tf_transformer = TfidfTransformer(use_idf=False).fit(X)\n",
    "#cv = TfidfTransformer(ngram_range=(1,1),use_idf=False)\n",
    "#X = tf_transformer.transform(X)"
   ]
  },
  {
   "cell_type": "code",
   "execution_count": 363,
   "metadata": {
    "id": "9XaTz67Grl5d"
   },
   "outputs": [],
   "source": [
    "count_vect_df = pd.DataFrame(X.todense(), columns=cv.get_feature_names())"
   ]
  },
  {
   "cell_type": "code",
   "execution_count": 364,
   "metadata": {
    "id": "50wIQDUVsE1l"
   },
   "outputs": [],
   "source": [
    "#dff = pd.concat([df.reset_index(), count_vect_df], axis =1, ignore_index= False)"
   ]
  },
  {
   "cell_type": "code",
   "execution_count": 365,
   "metadata": {},
   "outputs": [],
   "source": [
    "dff = pd.concat([dff, count_vect_df], axis =1, ignore_index= False)"
   ]
  },
  {
   "cell_type": "code",
   "execution_count": 366,
   "metadata": {
    "id": "fxUvDiJpsZIB"
   },
   "outputs": [
    {
     "name": "stdout",
     "output_type": "stream",
     "text": [
      "number of drug selected: 173\n",
      "number of features created: 2992\n"
     ]
    }
   ],
   "source": [
    "print('number of drug selected: %d'%dff.shape[0])\n",
    "print('number of features created: %d'%dff.shape[1])"
   ]
  },
  {
   "cell_type": "code",
   "execution_count": 367,
   "metadata": {},
   "outputs": [
    {
     "data": {
      "text/plain": [
       "62"
      ]
     },
     "execution_count": 367,
     "metadata": {},
     "output_type": "execute_result"
    }
   ],
   "source": [
    "dff[dff.columns[6:]].max().max()"
   ]
  },
  {
   "cell_type": "code",
   "execution_count": 368,
   "metadata": {},
   "outputs": [
    {
     "data": {
      "text/html": [
       "<div>\n",
       "<style scoped>\n",
       "    .dataframe tbody tr th:only-of-type {\n",
       "        vertical-align: middle;\n",
       "    }\n",
       "\n",
       "    .dataframe tbody tr th {\n",
       "        vertical-align: top;\n",
       "    }\n",
       "\n",
       "    .dataframe thead th {\n",
       "        text-align: right;\n",
       "    }\n",
       "</style>\n",
       "<table border=\"1\" class=\"dataframe\">\n",
       "  <thead>\n",
       "    <tr style=\"text-align: right;\">\n",
       "      <th></th>\n",
       "      <th>mol1</th>\n",
       "      <th>mol2</th>\n",
       "      <th>mol3</th>\n",
       "      <th>mol4</th>\n",
       "      <th>mol5</th>\n",
       "      <th>mol6</th>\n",
       "      <th>mol7</th>\n",
       "      <th>mol8</th>\n",
       "      <th>mol1 mol1</th>\n",
       "      <th>mol1 mol2</th>\n",
       "      <th>...</th>\n",
       "      <th>mol8 mol8 mol8 mol8 mol8 mol8 mol5 mol8</th>\n",
       "      <th>mol8 mol8 mol8 mol8 mol8 mol8 mol6 mol3</th>\n",
       "      <th>mol8 mol8 mol8 mol8 mol8 mol8 mol7 mol4</th>\n",
       "      <th>mol8 mol8 mol8 mol8 mol8 mol8 mol7 mol8</th>\n",
       "      <th>mol8 mol8 mol8 mol8 mol8 mol8 mol8 mol1</th>\n",
       "      <th>mol8 mol8 mol8 mol8 mol8 mol8 mol8 mol3</th>\n",
       "      <th>mol8 mol8 mol8 mol8 mol8 mol8 mol8 mol4</th>\n",
       "      <th>mol8 mol8 mol8 mol8 mol8 mol8 mol8 mol5</th>\n",
       "      <th>mol8 mol8 mol8 mol8 mol8 mol8 mol8 mol7</th>\n",
       "      <th>mol8 mol8 mol8 mol8 mol8 mol8 mol8 mol8</th>\n",
       "    </tr>\n",
       "  </thead>\n",
       "  <tbody>\n",
       "    <tr>\n",
       "      <th>0</th>\n",
       "      <td>3</td>\n",
       "      <td>0</td>\n",
       "      <td>0</td>\n",
       "      <td>0</td>\n",
       "      <td>5</td>\n",
       "      <td>0</td>\n",
       "      <td>0</td>\n",
       "      <td>26</td>\n",
       "      <td>0</td>\n",
       "      <td>0</td>\n",
       "      <td>...</td>\n",
       "      <td>0</td>\n",
       "      <td>0</td>\n",
       "      <td>0</td>\n",
       "      <td>0</td>\n",
       "      <td>1</td>\n",
       "      <td>0</td>\n",
       "      <td>0</td>\n",
       "      <td>1</td>\n",
       "      <td>0</td>\n",
       "      <td>3</td>\n",
       "    </tr>\n",
       "    <tr>\n",
       "      <th>1</th>\n",
       "      <td>5</td>\n",
       "      <td>0</td>\n",
       "      <td>1</td>\n",
       "      <td>0</td>\n",
       "      <td>4</td>\n",
       "      <td>1</td>\n",
       "      <td>0</td>\n",
       "      <td>26</td>\n",
       "      <td>0</td>\n",
       "      <td>0</td>\n",
       "      <td>...</td>\n",
       "      <td>0</td>\n",
       "      <td>1</td>\n",
       "      <td>0</td>\n",
       "      <td>0</td>\n",
       "      <td>0</td>\n",
       "      <td>0</td>\n",
       "      <td>0</td>\n",
       "      <td>0</td>\n",
       "      <td>0</td>\n",
       "      <td>0</td>\n",
       "    </tr>\n",
       "    <tr>\n",
       "      <th>2</th>\n",
       "      <td>7</td>\n",
       "      <td>0</td>\n",
       "      <td>0</td>\n",
       "      <td>1</td>\n",
       "      <td>7</td>\n",
       "      <td>0</td>\n",
       "      <td>0</td>\n",
       "      <td>46</td>\n",
       "      <td>0</td>\n",
       "      <td>0</td>\n",
       "      <td>...</td>\n",
       "      <td>0</td>\n",
       "      <td>0</td>\n",
       "      <td>0</td>\n",
       "      <td>0</td>\n",
       "      <td>1</td>\n",
       "      <td>0</td>\n",
       "      <td>0</td>\n",
       "      <td>1</td>\n",
       "      <td>0</td>\n",
       "      <td>10</td>\n",
       "    </tr>\n",
       "    <tr>\n",
       "      <th>3</th>\n",
       "      <td>4</td>\n",
       "      <td>0</td>\n",
       "      <td>1</td>\n",
       "      <td>0</td>\n",
       "      <td>3</td>\n",
       "      <td>0</td>\n",
       "      <td>0</td>\n",
       "      <td>24</td>\n",
       "      <td>1</td>\n",
       "      <td>0</td>\n",
       "      <td>...</td>\n",
       "      <td>0</td>\n",
       "      <td>0</td>\n",
       "      <td>0</td>\n",
       "      <td>0</td>\n",
       "      <td>1</td>\n",
       "      <td>0</td>\n",
       "      <td>0</td>\n",
       "      <td>0</td>\n",
       "      <td>0</td>\n",
       "      <td>1</td>\n",
       "    </tr>\n",
       "    <tr>\n",
       "      <th>4</th>\n",
       "      <td>4</td>\n",
       "      <td>0</td>\n",
       "      <td>0</td>\n",
       "      <td>1</td>\n",
       "      <td>1</td>\n",
       "      <td>0</td>\n",
       "      <td>0</td>\n",
       "      <td>22</td>\n",
       "      <td>1</td>\n",
       "      <td>0</td>\n",
       "      <td>...</td>\n",
       "      <td>0</td>\n",
       "      <td>0</td>\n",
       "      <td>0</td>\n",
       "      <td>0</td>\n",
       "      <td>2</td>\n",
       "      <td>0</td>\n",
       "      <td>0</td>\n",
       "      <td>0</td>\n",
       "      <td>0</td>\n",
       "      <td>0</td>\n",
       "    </tr>\n",
       "    <tr>\n",
       "      <th>...</th>\n",
       "      <td>...</td>\n",
       "      <td>...</td>\n",
       "      <td>...</td>\n",
       "      <td>...</td>\n",
       "      <td>...</td>\n",
       "      <td>...</td>\n",
       "      <td>...</td>\n",
       "      <td>...</td>\n",
       "      <td>...</td>\n",
       "      <td>...</td>\n",
       "      <td>...</td>\n",
       "      <td>...</td>\n",
       "      <td>...</td>\n",
       "      <td>...</td>\n",
       "      <td>...</td>\n",
       "      <td>...</td>\n",
       "      <td>...</td>\n",
       "      <td>...</td>\n",
       "      <td>...</td>\n",
       "      <td>...</td>\n",
       "      <td>...</td>\n",
       "    </tr>\n",
       "    <tr>\n",
       "      <th>168</th>\n",
       "      <td>5</td>\n",
       "      <td>0</td>\n",
       "      <td>1</td>\n",
       "      <td>0</td>\n",
       "      <td>2</td>\n",
       "      <td>0</td>\n",
       "      <td>0</td>\n",
       "      <td>26</td>\n",
       "      <td>0</td>\n",
       "      <td>0</td>\n",
       "      <td>...</td>\n",
       "      <td>0</td>\n",
       "      <td>0</td>\n",
       "      <td>0</td>\n",
       "      <td>0</td>\n",
       "      <td>1</td>\n",
       "      <td>0</td>\n",
       "      <td>0</td>\n",
       "      <td>0</td>\n",
       "      <td>0</td>\n",
       "      <td>0</td>\n",
       "    </tr>\n",
       "    <tr>\n",
       "      <th>169</th>\n",
       "      <td>2</td>\n",
       "      <td>0</td>\n",
       "      <td>2</td>\n",
       "      <td>0</td>\n",
       "      <td>2</td>\n",
       "      <td>0</td>\n",
       "      <td>0</td>\n",
       "      <td>21</td>\n",
       "      <td>0</td>\n",
       "      <td>0</td>\n",
       "      <td>...</td>\n",
       "      <td>0</td>\n",
       "      <td>0</td>\n",
       "      <td>0</td>\n",
       "      <td>0</td>\n",
       "      <td>1</td>\n",
       "      <td>1</td>\n",
       "      <td>0</td>\n",
       "      <td>0</td>\n",
       "      <td>0</td>\n",
       "      <td>3</td>\n",
       "    </tr>\n",
       "    <tr>\n",
       "      <th>170</th>\n",
       "      <td>2</td>\n",
       "      <td>0</td>\n",
       "      <td>3</td>\n",
       "      <td>0</td>\n",
       "      <td>4</td>\n",
       "      <td>1</td>\n",
       "      <td>0</td>\n",
       "      <td>16</td>\n",
       "      <td>0</td>\n",
       "      <td>0</td>\n",
       "      <td>...</td>\n",
       "      <td>0</td>\n",
       "      <td>1</td>\n",
       "      <td>0</td>\n",
       "      <td>0</td>\n",
       "      <td>0</td>\n",
       "      <td>0</td>\n",
       "      <td>0</td>\n",
       "      <td>0</td>\n",
       "      <td>0</td>\n",
       "      <td>0</td>\n",
       "    </tr>\n",
       "    <tr>\n",
       "      <th>171</th>\n",
       "      <td>6</td>\n",
       "      <td>0</td>\n",
       "      <td>0</td>\n",
       "      <td>0</td>\n",
       "      <td>3</td>\n",
       "      <td>0</td>\n",
       "      <td>0</td>\n",
       "      <td>25</td>\n",
       "      <td>0</td>\n",
       "      <td>0</td>\n",
       "      <td>...</td>\n",
       "      <td>0</td>\n",
       "      <td>0</td>\n",
       "      <td>0</td>\n",
       "      <td>0</td>\n",
       "      <td>0</td>\n",
       "      <td>0</td>\n",
       "      <td>0</td>\n",
       "      <td>1</td>\n",
       "      <td>0</td>\n",
       "      <td>0</td>\n",
       "    </tr>\n",
       "    <tr>\n",
       "      <th>172</th>\n",
       "      <td>5</td>\n",
       "      <td>0</td>\n",
       "      <td>0</td>\n",
       "      <td>1</td>\n",
       "      <td>2</td>\n",
       "      <td>0</td>\n",
       "      <td>0</td>\n",
       "      <td>18</td>\n",
       "      <td>0</td>\n",
       "      <td>0</td>\n",
       "      <td>...</td>\n",
       "      <td>0</td>\n",
       "      <td>0</td>\n",
       "      <td>0</td>\n",
       "      <td>0</td>\n",
       "      <td>0</td>\n",
       "      <td>0</td>\n",
       "      <td>0</td>\n",
       "      <td>0</td>\n",
       "      <td>0</td>\n",
       "      <td>0</td>\n",
       "    </tr>\n",
       "  </tbody>\n",
       "</table>\n",
       "<p>173 rows × 2986 columns</p>\n",
       "</div>"
      ],
      "text/plain": [
       "     mol1  mol2  mol3  mol4  mol5  mol6  mol7  mol8  mol1 mol1  mol1 mol2  \\\n",
       "0       3     0     0     0     5     0     0    26          0          0   \n",
       "1       5     0     1     0     4     1     0    26          0          0   \n",
       "2       7     0     0     1     7     0     0    46          0          0   \n",
       "3       4     0     1     0     3     0     0    24          1          0   \n",
       "4       4     0     0     1     1     0     0    22          1          0   \n",
       "..    ...   ...   ...   ...   ...   ...   ...   ...        ...        ...   \n",
       "168     5     0     1     0     2     0     0    26          0          0   \n",
       "169     2     0     2     0     2     0     0    21          0          0   \n",
       "170     2     0     3     0     4     1     0    16          0          0   \n",
       "171     6     0     0     0     3     0     0    25          0          0   \n",
       "172     5     0     0     1     2     0     0    18          0          0   \n",
       "\n",
       "     ...  mol8 mol8 mol8 mol8 mol8 mol8 mol5 mol8  \\\n",
       "0    ...                                        0   \n",
       "1    ...                                        0   \n",
       "2    ...                                        0   \n",
       "3    ...                                        0   \n",
       "4    ...                                        0   \n",
       "..   ...                                      ...   \n",
       "168  ...                                        0   \n",
       "169  ...                                        0   \n",
       "170  ...                                        0   \n",
       "171  ...                                        0   \n",
       "172  ...                                        0   \n",
       "\n",
       "     mol8 mol8 mol8 mol8 mol8 mol8 mol6 mol3  \\\n",
       "0                                          0   \n",
       "1                                          1   \n",
       "2                                          0   \n",
       "3                                          0   \n",
       "4                                          0   \n",
       "..                                       ...   \n",
       "168                                        0   \n",
       "169                                        0   \n",
       "170                                        1   \n",
       "171                                        0   \n",
       "172                                        0   \n",
       "\n",
       "     mol8 mol8 mol8 mol8 mol8 mol8 mol7 mol4  \\\n",
       "0                                          0   \n",
       "1                                          0   \n",
       "2                                          0   \n",
       "3                                          0   \n",
       "4                                          0   \n",
       "..                                       ...   \n",
       "168                                        0   \n",
       "169                                        0   \n",
       "170                                        0   \n",
       "171                                        0   \n",
       "172                                        0   \n",
       "\n",
       "     mol8 mol8 mol8 mol8 mol8 mol8 mol7 mol8  \\\n",
       "0                                          0   \n",
       "1                                          0   \n",
       "2                                          0   \n",
       "3                                          0   \n",
       "4                                          0   \n",
       "..                                       ...   \n",
       "168                                        0   \n",
       "169                                        0   \n",
       "170                                        0   \n",
       "171                                        0   \n",
       "172                                        0   \n",
       "\n",
       "     mol8 mol8 mol8 mol8 mol8 mol8 mol8 mol1  \\\n",
       "0                                          1   \n",
       "1                                          0   \n",
       "2                                          1   \n",
       "3                                          1   \n",
       "4                                          2   \n",
       "..                                       ...   \n",
       "168                                        1   \n",
       "169                                        1   \n",
       "170                                        0   \n",
       "171                                        0   \n",
       "172                                        0   \n",
       "\n",
       "     mol8 mol8 mol8 mol8 mol8 mol8 mol8 mol3  \\\n",
       "0                                          0   \n",
       "1                                          0   \n",
       "2                                          0   \n",
       "3                                          0   \n",
       "4                                          0   \n",
       "..                                       ...   \n",
       "168                                        0   \n",
       "169                                        1   \n",
       "170                                        0   \n",
       "171                                        0   \n",
       "172                                        0   \n",
       "\n",
       "     mol8 mol8 mol8 mol8 mol8 mol8 mol8 mol4  \\\n",
       "0                                          0   \n",
       "1                                          0   \n",
       "2                                          0   \n",
       "3                                          0   \n",
       "4                                          0   \n",
       "..                                       ...   \n",
       "168                                        0   \n",
       "169                                        0   \n",
       "170                                        0   \n",
       "171                                        0   \n",
       "172                                        0   \n",
       "\n",
       "     mol8 mol8 mol8 mol8 mol8 mol8 mol8 mol5  \\\n",
       "0                                          1   \n",
       "1                                          0   \n",
       "2                                          1   \n",
       "3                                          0   \n",
       "4                                          0   \n",
       "..                                       ...   \n",
       "168                                        0   \n",
       "169                                        0   \n",
       "170                                        0   \n",
       "171                                        1   \n",
       "172                                        0   \n",
       "\n",
       "     mol8 mol8 mol8 mol8 mol8 mol8 mol8 mol7  \\\n",
       "0                                          0   \n",
       "1                                          0   \n",
       "2                                          0   \n",
       "3                                          0   \n",
       "4                                          0   \n",
       "..                                       ...   \n",
       "168                                        0   \n",
       "169                                        0   \n",
       "170                                        0   \n",
       "171                                        0   \n",
       "172                                        0   \n",
       "\n",
       "     mol8 mol8 mol8 mol8 mol8 mol8 mol8 mol8  \n",
       "0                                          3  \n",
       "1                                          0  \n",
       "2                                         10  \n",
       "3                                          1  \n",
       "4                                          0  \n",
       "..                                       ...  \n",
       "168                                        0  \n",
       "169                                        3  \n",
       "170                                        0  \n",
       "171                                        0  \n",
       "172                                        0  \n",
       "\n",
       "[173 rows x 2986 columns]"
      ]
     },
     "execution_count": 368,
     "metadata": {},
     "output_type": "execute_result"
    }
   ],
   "source": [
    "dff[dff.columns[6:]]"
   ]
  },
  {
   "cell_type": "code",
   "execution_count": 369,
   "metadata": {
    "id": "CLMaYlEWX75l"
   },
   "outputs": [],
   "source": [
    "#saving the dataFrame for future reference\n",
    "dff.to_csv('/data/user/rsharma3/nbotw/Project-D2GNETs/data/SMILES_FeatureEngineered_new.csv',index=False)"
   ]
  },
  {
   "cell_type": "code",
   "execution_count": 370,
   "metadata": {},
   "outputs": [],
   "source": [
    "max_abs_scaler = StandardScaler()\n",
    "d1_1 = max_abs_scaler.fit_transform(dff[dff.columns[6:]])\n",
    "d1 = pd.DataFrame(d1_1,columns=dff.columns[6:].to_list())\n",
    "dff1 = pd.concat([dff[dff.columns[:6]],d1],axis=1)\n",
    "#dff1= dff.copy(deep=True)"
   ]
  },
  {
   "cell_type": "code",
   "execution_count": 371,
   "metadata": {},
   "outputs": [],
   "source": [
    "dff1.to_csv('/data/user/rsharma3/nbotw/Project-D2GNETs/data/SMILES_FeatureEngineered_new_scaled.csv',index=False)"
   ]
  },
  {
   "cell_type": "code",
   "execution_count": 372,
   "metadata": {},
   "outputs": [],
   "source": [
    "dff1[dff.columns[6:]][:0].to_csv('/data/user/rsharma3/nbotw/Project-D2GNETs/data/moleculeNames_v1.csv',index=False)"
   ]
  },
  {
   "cell_type": "code",
   "execution_count": 374,
   "metadata": {},
   "outputs": [
    {
     "data": {
      "text/html": [
       "<div>\n",
       "<style scoped>\n",
       "    .dataframe tbody tr th:only-of-type {\n",
       "        vertical-align: middle;\n",
       "    }\n",
       "\n",
       "    .dataframe tbody tr th {\n",
       "        vertical-align: top;\n",
       "    }\n",
       "\n",
       "    .dataframe thead th {\n",
       "        text-align: right;\n",
       "    }\n",
       "</style>\n",
       "<table border=\"1\" class=\"dataframe\">\n",
       "  <thead>\n",
       "    <tr style=\"text-align: right;\">\n",
       "      <th></th>\n",
       "      <th>mol1</th>\n",
       "      <th>mol2</th>\n",
       "      <th>mol3</th>\n",
       "      <th>mol4</th>\n",
       "      <th>mol5</th>\n",
       "      <th>mol6</th>\n",
       "      <th>mol7</th>\n",
       "      <th>mol8</th>\n",
       "      <th>mol1 mol1</th>\n",
       "      <th>mol1 mol2</th>\n",
       "      <th>...</th>\n",
       "      <th>mol8 mol8 mol8 mol8 mol8 mol8 mol5 mol8</th>\n",
       "      <th>mol8 mol8 mol8 mol8 mol8 mol8 mol6 mol3</th>\n",
       "      <th>mol8 mol8 mol8 mol8 mol8 mol8 mol7 mol4</th>\n",
       "      <th>mol8 mol8 mol8 mol8 mol8 mol8 mol7 mol8</th>\n",
       "      <th>mol8 mol8 mol8 mol8 mol8 mol8 mol8 mol1</th>\n",
       "      <th>mol8 mol8 mol8 mol8 mol8 mol8 mol8 mol3</th>\n",
       "      <th>mol8 mol8 mol8 mol8 mol8 mol8 mol8 mol4</th>\n",
       "      <th>mol8 mol8 mol8 mol8 mol8 mol8 mol8 mol5</th>\n",
       "      <th>mol8 mol8 mol8 mol8 mol8 mol8 mol8 mol7</th>\n",
       "      <th>mol8 mol8 mol8 mol8 mol8 mol8 mol8 mol8</th>\n",
       "    </tr>\n",
       "  </thead>\n",
       "  <tbody>\n",
       "  </tbody>\n",
       "</table>\n",
       "<p>0 rows × 2986 columns</p>\n",
       "</div>"
      ],
      "text/plain": [
       "Empty DataFrame\n",
       "Columns: [mol1, mol2, mol3, mol4, mol5, mol6, mol7, mol8, mol1 mol1, mol1 mol2, mol1 mol3, mol1 mol4, mol1 mol5, mol1 mol7, mol1 mol8, mol2 mol5, mol2 mol8, mol3 mol1, mol3 mol3, mol3 mol5, mol3 mol8, mol4 mol1, mol4 mol4, mol4 mol5, mol4 mol8, mol5 mol1, mol5 mol2, mol5 mol3, mol5 mol4, mol5 mol5, mol5 mol7, mol5 mol8, mol6 mol3, mol7 mol4, mol7 mol8, mol8 mol1, mol8 mol2, mol8 mol3, mol8 mol4, mol8 mol5, mol8 mol6, mol8 mol7, mol8 mol8, mol1 mol1 mol1, mol1 mol1 mol5, mol1 mol1 mol8, mol1 mol2 mol5, mol1 mol4 mol5, mol1 mol4 mol8, mol1 mol5 mol1, mol1 mol5 mol5, mol1 mol5 mol8, mol1 mol7 mol8, mol1 mol8 mol1, mol1 mol8 mol2, mol1 mol8 mol3, mol1 mol8 mol4, mol1 mol8 mol5, mol1 mol8 mol7, mol1 mol8 mol8, mol2 mol5 mol5, mol3 mol1 mol1, mol3 mol1 mol5, mol3 mol1 mol8, mol3 mol3 mol1, mol3 mol3 mol3, mol3 mol3 mol8, mol3 mol5 mol3, mol3 mol5 mol8, mol3 mol8 mol1, mol3 mol8 mol5, mol3 mol8 mol8, mol4 mol1 mol5, mol4 mol1 mol8, mol4 mol4 mol1, mol4 mol4 mol8, mol4 mol5 mol5, mol4 mol5 mol8, mol4 mol8 mol1, mol4 mol8 mol5, mol4 mol8 mol8, mol5 mol1 mol3, mol5 mol1 mol4, mol5 mol1 mol5, mol5 mol1 mol8, mol5 mol2 mol5, mol5 mol3 mol1, mol5 mol3 mol3, mol5 mol3 mol8, mol5 mol4 mol1, mol5 mol4 mol5, mol5 mol4 mol8, mol5 mol5 mol1, mol5 mol5 mol2, mol5 mol5 mol3, mol5 mol5 mol5, mol5 mol5 mol8, mol5 mol8 mol1, mol5 mol8 mol3, mol5 mol8 mol4, ...]\n",
       "Index: []\n",
       "\n",
       "[0 rows x 2986 columns]"
      ]
     },
     "execution_count": 374,
     "metadata": {},
     "output_type": "execute_result"
    }
   ],
   "source": [
    "dff1[dff.columns[6:]][:0]"
   ]
  },
  {
   "cell_type": "code",
   "execution_count": 375,
   "metadata": {},
   "outputs": [],
   "source": [
    "s = pd.Series(list(df_GDSC['TCGA_DESC'].unique()))"
   ]
  },
  {
   "cell_type": "code",
   "execution_count": 376,
   "metadata": {},
   "outputs": [],
   "source": [
    "s.dropna(inplace=True)"
   ]
  },
  {
   "cell_type": "code",
   "execution_count": 377,
   "metadata": {},
   "outputs": [],
   "source": [
    "s1=pd.get_dummies(s)"
   ]
  },
  {
   "cell_type": "code",
   "execution_count": 378,
   "metadata": {},
   "outputs": [],
   "source": [
    "disease = pd.concat([s,s1],axis=1)"
   ]
  },
  {
   "cell_type": "code",
   "execution_count": 379,
   "metadata": {},
   "outputs": [],
   "source": [
    "disease.rename(columns={0:'TCGA_DESC'}, inplace=True)"
   ]
  },
  {
   "cell_type": "code",
   "execution_count": 380,
   "metadata": {},
   "outputs": [],
   "source": [
    "disease[disease.columns[1:]][:0].to_csv('/data/user/rsharma3/nbotw/Project-D2GNETs/data/diseaseNames.csv',index=False)"
   ]
  },
  {
   "cell_type": "code",
   "execution_count": 381,
   "metadata": {
    "id": "XP2wVYvwmWqS"
   },
   "outputs": [
    {
     "name": "stdout",
     "output_type": "stream",
     "text": [
      "(135242, 50)\n",
      "(135242, 19)\n",
      "(135242, 3041)\n"
     ]
    }
   ],
   "source": [
    "#joining the GDSC Dataframe with Feature Engineered Drug Smiles\n",
    "df1 = pd.merge(df_GDSC,disease, on=['TCGA_DESC'], how='left')\n",
    "print(df1.shape)\n",
    "df1 = pd.merge(df1,dff1, on=['DRUG_NAME'], how='left')\n",
    "print(df_GDSC.shape)\n",
    "print(df1.shape)"
   ]
  },
  {
   "cell_type": "code",
   "execution_count": 382,
   "metadata": {},
   "outputs": [],
   "source": [
    "df1.drop(columns=['DATASET', 'NLME_RESULT_ID', 'NLME_CURVE_ID','PUTATIVE_TARGET', 'CELL_LINE_NAME', 'SANGER_MODEL_ID',\n",
    "                         'PATHWAY_NAME', 'COMPANY_ID','WEBRELEASE', 'MIN_CONC', 'MAX_CONC','SMILES', 'WORDS', 'AUC', 'RMSE',\n",
    "                         'Z_SCORE', 'index'],inplace=True)"
   ]
  },
  {
   "cell_type": "code",
   "execution_count": 383,
   "metadata": {},
   "outputs": [],
   "source": [
    "df1.drop(index=df1[df1.isna().any(axis=1)].index,inplace=True)"
   ]
  },
  {
   "cell_type": "markdown",
   "metadata": {},
   "source": [
    "### Saving the merged DataFrame of Drug Respnse and Feature Engineered drugs"
   ]
  },
  {
   "cell_type": "code",
   "execution_count": 384,
   "metadata": {
    "id": "FFk5kTRIo3Mc"
   },
   "outputs": [],
   "source": [
    "\n",
    "df1.to_csv('/data/user/rsharma3/nbotw/Project-D2GNETs/data/GDSC_Drug_Feature_Engineered_new_scaled.csv',index=False)"
   ]
  },
  {
   "cell_type": "code",
   "execution_count": 186,
   "metadata": {},
   "outputs": [],
   "source": [
    "dfx = df1[(df1['TCGA_DESC']=='GBM')&(df1['DRUG_NAME']=='Carmustine')]"
   ]
  },
  {
   "cell_type": "code",
   "execution_count": 204,
   "metadata": {},
   "outputs": [
    {
     "data": {
      "text/html": [
       "<div>\n",
       "<style scoped>\n",
       "    .dataframe tbody tr th:only-of-type {\n",
       "        vertical-align: middle;\n",
       "    }\n",
       "\n",
       "    .dataframe tbody tr th {\n",
       "        vertical-align: top;\n",
       "    }\n",
       "\n",
       "    .dataframe thead th {\n",
       "        text-align: right;\n",
       "    }\n",
       "</style>\n",
       "<table border=\"1\" class=\"dataframe\">\n",
       "  <thead>\n",
       "    <tr style=\"text-align: right;\">\n",
       "      <th></th>\n",
       "      <th>COSMIC_ID</th>\n",
       "      <th>TCGA_DESC</th>\n",
       "      <th>DRUG_ID</th>\n",
       "      <th>DRUG_NAME</th>\n",
       "      <th>LN_IC50</th>\n",
       "      <th>ACC</th>\n",
       "      <th>ALL</th>\n",
       "      <th>BLCA</th>\n",
       "      <th>BRCA</th>\n",
       "      <th>CESC</th>\n",
       "      <th>...</th>\n",
       "      <th>mol8 mol8 mol8 mol8 mol8 mol8 mol6 mol6</th>\n",
       "      <th>mol8 mol8 mol8 mol8 mol8 mol8 mol6 mol8</th>\n",
       "      <th>mol8 mol8 mol8 mol8 mol8 mol8 mol7 mol3</th>\n",
       "      <th>mol8 mol8 mol8 mol8 mol8 mol8 mol7 mol8</th>\n",
       "      <th>mol8 mol8 mol8 mol8 mol8 mol8 mol8 mol3</th>\n",
       "      <th>mol8 mol8 mol8 mol8 mol8 mol8 mol8 mol4</th>\n",
       "      <th>mol8 mol8 mol8 mol8 mol8 mol8 mol8 mol5</th>\n",
       "      <th>mol8 mol8 mol8 mol8 mol8 mol8 mol8 mol6</th>\n",
       "      <th>mol8 mol8 mol8 mol8 mol8 mol8 mol8 mol7</th>\n",
       "      <th>mol8 mol8 mol8 mol8 mol8 mol8 mol8 mol8</th>\n",
       "    </tr>\n",
       "  </thead>\n",
       "  <tbody>\n",
       "  </tbody>\n",
       "</table>\n",
       "<p>0 rows × 3024 columns</p>\n",
       "</div>"
      ],
      "text/plain": [
       "Empty DataFrame\n",
       "Columns: [COSMIC_ID, TCGA_DESC, DRUG_ID, DRUG_NAME, LN_IC50, ACC, ALL, BLCA, BRCA, CESC, CLL, COREAD, DLBC, ESCA, GBM, HNSC, KIRC, LAML, LCML, LGG, LIHC, LUAD, LUSC, MB, MESO, MM, NB, OV, PAAD, PRAD, SCLC, SKCM, STAD, THCA, UCEC, UNCLASSIFIED, PUBCHEM_ID, WordMap, mol1, mol2, mol3, mol4, mol5, mol6, mol7, mol8, mol1 mol6, mol2 mol3, mol2 mol8, mol3 mol2, mol3 mol3, mol3 mol4, mol3 mol5, mol3 mol6, mol3 mol7, mol3 mol8, mol4 mol2, mol4 mol3, mol4 mol4, mol4 mol5, mol4 mol6, mol4 mol7, mol4 mol8, mol5 mol7, mol5 mol8, mol6 mol3, mol6 mol4, mol6 mol6, mol6 mol8, mol7 mol3, mol7 mol4, mol7 mol7, mol7 mol8, mol8 mol1, mol8 mol2, mol8 mol3, mol8 mol4, mol8 mol5, mol8 mol6, mol8 mol7, mol8 mol8, mol1 mol6 mol4, mol1 mol6 mol8, mol2 mol3 mol3, mol3 mol2 mol3, mol3 mol3 mol2, mol3 mol3 mol3, mol3 mol3 mol4, mol3 mol3 mol6, mol3 mol3 mol8, mol3 mol4 mol3, mol3 mol4 mol6, mol3 mol4 mol7, mol3 mol4 mol8, mol3 mol6 mol4, mol3 mol6 mol6, mol3 mol6 mol8, mol3 mol7 mol3, mol3 mol7 mol4, mol3 mol7 mol8, ...]\n",
       "Index: []\n",
       "\n",
       "[0 rows x 3024 columns]"
      ]
     },
     "execution_count": 204,
     "metadata": {},
     "output_type": "execute_result"
    }
   ],
   "source": []
  },
  {
   "cell_type": "code",
   "execution_count": null,
   "metadata": {
    "id": "wB1mJcPjI2B-"
   },
   "outputs": [],
   "source": [
    "GDSC = pd.merge(df_GDSC, df_GDSC_DrugInfo, on=[])"
   ]
  },
  {
   "cell_type": "code",
   "execution_count": null,
   "metadata": {
    "id": "T9xuzXEyipTi"
   },
   "outputs": [],
   "source": [
    "GE_df = pd.read_csv('/content/drive/MyDrive/COSMIC/GE_dimension_reduced_RANS_657.csv')\n",
    "Drug_df = pd.read_csv('/content/drive/MyDrive/GDSCdata/GDSC_Drug_Feature_Engineered_with_RANs.csv')\n"
   ]
  },
  {
   "cell_type": "code",
   "execution_count": null,
   "metadata": {
    "id": "HW156Q5pmu7G"
   },
   "outputs": [],
   "source": [
    "censusGN = pd.read_csv('/content/drive/MyDrive/GDSCdata/Census_allSun May 22 17_29_44 2022.csv')"
   ]
  },
  {
   "cell_type": "code",
   "execution_count": null,
   "metadata": {
    "id": "TwfysDVGm6Db"
   },
   "outputs": [],
   "source": [
    "censusGN.head()"
   ]
  },
  {
   "cell_type": "code",
   "execution_count": null,
   "metadata": {
    "id": "gYf_qOntkzMv"
   },
   "outputs": [],
   "source": [
    "GE_df = pd.read_csv('/content/drive/MyDrive/COSMIC/AllGeneExpression.csv')\n",
    "Drug_df = pd.read_csv('/content/drive/MyDrive/GDSCdata/GDSC_Drug_Feature_Engineered_new.csv')"
   ]
  },
  {
   "cell_type": "code",
   "execution_count": null,
   "metadata": {
    "id": "tCafy9DW3Cqo"
   },
   "outputs": [],
   "source": [
    "GE_df.columns"
   ]
  },
  {
   "cell_type": "code",
   "execution_count": null,
   "metadata": {
    "id": "-1mDkApKnck_"
   },
   "outputs": [],
   "source": [
    "X_cols = list(set(GE_df.columns).intersection(set(censusGN['Gene Symbol'].values)))"
   ]
  },
  {
   "cell_type": "code",
   "execution_count": null,
   "metadata": {
    "id": "qzRvjMzUnyyC"
   },
   "outputs": [],
   "source": [
    "GE_df = GE_df[['SAMPLE_ID']+X_cols]\n"
   ]
  },
  {
   "cell_type": "code",
   "execution_count": null,
   "metadata": {
    "id": "v44SyaQDxXY7"
   },
   "outputs": [],
   "source": [
    "#Drug_df = pd.read_csv('/content/drive/MyDrive/GDSCdata/GDSC_Drug_Feature_Engineered_with_RANs.csv')"
   ]
  },
  {
   "cell_type": "code",
   "execution_count": null,
   "metadata": {
    "id": "nE0qkFXqi3ob"
   },
   "outputs": [],
   "source": [
    "GE_df.drop(columns=['Unnamed: 0'],inplace=True)"
   ]
  },
  {
   "cell_type": "code",
   "execution_count": null,
   "metadata": {
    "id": "zGPW9CWojU6W"
   },
   "outputs": [],
   "source": []
  },
  {
   "cell_type": "code",
   "execution_count": null,
   "metadata": {
    "id": "vCEOfBYuZMA8"
   },
   "outputs": [],
   "source": [
    "\n",
    "#GE_df = pd.read_csv('/content/drive/MyDrive/COSMIC/AllGeneExpression.csv')\n",
    "#Drug_df = pd.read_csv('/content/drive/MyDrive/GDSCdata/GDSC_Drug_Feature_Engineered.csv')\n",
    "\n",
    "\n",
    "GE_df.dropna(inplace=True)\n",
    "\n",
    "Drug_df.rename(columns={'COSMIC_ID':'SAMPLE_ID'},inplace=True)\n",
    "Drug_df.dropna(inplace=True)\n",
    "\n",
    "GBM_DRUG_LIST = ['Crizotinib','Docetaxel','Temozolomide', 'Camptothecin','Carmustine', 'Irinotecan','Nimotuzumab','Temozolomide']\n",
    "TARGET = 'LN_IC50'\n",
    "IRRELEVANT_FETURES = ['DATASET', 'NLME_RESULT_ID', 'NLME_CURVE_ID', 'COSMIC_ID',\n",
    "       'CELL_LINE_NAME', 'SANGER_MODEL_ID', 'TCGA_DESC', 'DRUG_ID',\n",
    "       'DRUG_NAME', 'PUTATIVE_TARGET', 'PATHWAY_NAME', 'COMPANY_ID',\n",
    "       'WEBRELEASE', 'MIN_CONC', 'MAX_CONC', 'AUC', 'RMSE',\n",
    "       'Z_SCORE', 'index', 'PUBCHEM_ID', 'SMILES', 'WORDS', 'SAMPLE_ID',]\n",
    "\n",
    "Drug_df_GBM = Drug_df[Drug_df['TCGA_DESC']=='GBM'].copy(deep=True)\n",
    "\n",
    "Drug_df.drop(Drug_df_GBM.index,inplace=True)\n",
    "\n",
    "GBM_known_drugs_test_df =  Drug_df_GBM[(Drug_df_GBM['DRUG_NAME'].isin(GBM_DRUG_LIST))].copy(deep=True)\n",
    "\n",
    "Drug_df_GBM.drop(GBM_known_drugs_test_df.index, inplace=True)\n",
    "\n",
    "panCancer_train_df = pd.merge(Drug_df,GE_df, on=['SAMPLE_ID'], how='left')\n",
    "GBM_train_df = pd.merge(Drug_df_GBM,GE_df, on=['SAMPLE_ID'], how='left')\n",
    "GBM_test_df = pd.merge(GBM_known_drugs_test_df,GE_df, on=['SAMPLE_ID'], how='left')\n",
    "\n",
    "Drug_df= None\n",
    "GE_df = None\n",
    "Drug_df_GBM = None\n",
    "GBM_known_drugs_test_df = None"
   ]
  },
  {
   "cell_type": "code",
   "execution_count": null,
   "metadata": {
    "id": "z6kQ9E8wjiK0"
   },
   "outputs": [],
   "source": [
    "panCancer_train_df.columns[:50]"
   ]
  },
  {
   "cell_type": "code",
   "execution_count": null,
   "metadata": {
    "id": "eOtbzy6-ZypL"
   },
   "outputs": [],
   "source": [
    "panCancer_train_df.dropna(inplace=True)"
   ]
  },
  {
   "cell_type": "code",
   "execution_count": null,
   "metadata": {
    "id": "xk9twU5IauAi"
   },
   "outputs": [],
   "source": [
    "panCancer_train_df.to_csv('/content/drive/MyDrive/COSMIC/panCancer_train_657_RANS_df.csv',index=False)"
   ]
  },
  {
   "cell_type": "code",
   "execution_count": null,
   "metadata": {
    "id": "4tPfgcFtbWDk"
   },
   "outputs": [],
   "source": [
    "panCancer_train_df=None"
   ]
  },
  {
   "cell_type": "code",
   "execution_count": null,
   "metadata": {
    "id": "pXtIulxyaM5m"
   },
   "outputs": [],
   "source": [
    "GBM_train_df.dropna(inplace=True)\n",
    "GBM_train_df.to_csv('/content/drive/MyDrive/COSMIC/GBM_train_657_RANS_df.csv',index=False)\n",
    "#GBM_train_df = None"
   ]
  },
  {
   "cell_type": "code",
   "execution_count": null,
   "metadata": {
    "id": "4of4fNv9aNcP"
   },
   "outputs": [],
   "source": [
    "GBM_test_df.dropna(inplace=True)\n",
    "GBM_test_df.to_csv('/content/drive/MyDrive/COSMIC/GBM_test_657_RANS_df.csv',index=False)\n",
    "#GBM_test_df = None"
   ]
  },
  {
   "cell_type": "code",
   "execution_count": null,
   "metadata": {
    "id": "_Kutq3RbWP0t"
   },
   "outputs": [],
   "source": [
    "len(X_cols)"
   ]
  },
  {
   "cell_type": "code",
   "execution_count": 5,
   "metadata": {
    "id": "8oEmiO3KWRF8"
   },
   "outputs": [],
   "source": [
    "genes = np.asarray(data.columns[1:])"
   ]
  },
  {
   "cell_type": "code",
   "execution_count": 12,
   "metadata": {},
   "outputs": [
    {
     "data": {
      "text/plain": [
       "(16248,)"
      ]
     },
     "execution_count": 12,
     "metadata": {},
     "output_type": "execute_result"
    }
   ],
   "source": [
    "genes.shape"
   ]
  },
  {
   "cell_type": "code",
   "execution_count": 17,
   "metadata": {},
   "outputs": [],
   "source": [
    "gene1 = np.reshape(genes,(-1,24))"
   ]
  },
  {
   "cell_type": "code",
   "execution_count": 23,
   "metadata": {},
   "outputs": [],
   "source": [
    "gene1 = pd.DataFrame(gene1)"
   ]
  },
  {
   "cell_type": "code",
   "execution_count": 25,
   "metadata": {},
   "outputs": [],
   "source": [
    "gene1.to_csv('/data/user/rsharma3/nbotw/Project-D2GNETs/Supplementary_Material/genes16248.csv', index=False, header=False)"
   ]
  },
  {
   "cell_type": "code",
   "execution_count": 26,
   "metadata": {},
   "outputs": [
    {
     "data": {
      "text/plain": [
       "Index(['DATASET', 'NLME_RESULT_ID', 'NLME_CURVE_ID', 'COSMIC_ID',\n",
       "       'CELL_LINE_NAME', 'SANGER_MODEL_ID', 'TCGA_DESC', 'DRUG_ID',\n",
       "       'DRUG_NAME', 'PUTATIVE_TARGET', 'PATHWAY_NAME', 'COMPANY_ID',\n",
       "       'WEBRELEASE', 'MIN_CONC', 'MAX_CONC', 'LN_IC50', 'AUC', 'RMSE',\n",
       "       'Z_SCORE'],\n",
       "      dtype='object')"
      ]
     },
     "execution_count": 26,
     "metadata": {},
     "output_type": "execute_result"
    }
   ],
   "source": [
    "df_GDSC.columns"
   ]
  },
  {
   "cell_type": "code",
   "execution_count": 30,
   "metadata": {},
   "outputs": [],
   "source": [
    "((df_GDSC[['COSMIC_ID','CELL_LINE_NAME','TCGA_DESC']].drop_duplicates()).dropna()).to_csv('/data/user/rsharma3/nbotw/Project-D2GNETs/Supplementary_Material/TCGA_classes_of_Cell_lines.csv',index=False)"
   ]
  },
  {
   "cell_type": "code",
   "execution_count": null,
   "metadata": {},
   "outputs": [],
   "source": []
  }
 ],
 "metadata": {
  "accelerator": "GPU",
  "colab": {
   "authorship_tag": "ABX9TyMiBbhagFpjFDqGyTxjkwri",
   "background_execution": "on",
   "machine_shape": "hm",
   "mount_file_id": "1Yw8v2kdGjDabUqdqOQx-hSxHg7-lqMur",
   "name": "DataPreparation_Drug_response_prediction.ipynb",
   "private_outputs": true,
   "provenance": []
  },
  "kernelspec": {
   "display_name": "Python [conda env:.conda-TF]",
   "language": "python",
   "name": "conda-env-.conda-TF-py"
  },
  "language_info": {
   "codemirror_mode": {
    "name": "ipython",
    "version": 3
   },
   "file_extension": ".py",
   "mimetype": "text/x-python",
   "name": "python",
   "nbconvert_exporter": "python",
   "pygments_lexer": "ipython3",
   "version": "3.9.13"
  }
 },
 "nbformat": 4,
 "nbformat_minor": 4
}
